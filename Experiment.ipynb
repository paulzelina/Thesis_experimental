{
  "nbformat": 4,
  "nbformat_minor": 0,
  "metadata": {
    "colab": {
      "provenance": [],
      "include_colab_link": true
    },
    "kernelspec": {
      "name": "python3",
      "display_name": "Python 3"
    },
    "language_info": {
      "name": "python"
    }
  },
  "cells": [
    {
      "cell_type": "markdown",
      "metadata": {
        "id": "view-in-github",
        "colab_type": "text"
      },
      "source": [
        "<a href=\"https://colab.research.google.com/github/paulzelina/Thesis_experimental/blob/main/Experiment.ipynb\" target=\"_parent\"><img src=\"https://colab.research.google.com/assets/colab-badge.svg\" alt=\"Open In Colab\"/></a>"
      ]
    },
    {
      "cell_type": "code",
      "execution_count": null,
      "metadata": {
        "colab": {
          "base_uri": "https://localhost:8080/"
        },
        "id": "X9jhXYeeg29U",
        "outputId": "982fb7ed-bcb1-4589-92ba-3d9e402c9f61"
      },
      "outputs": [
        {
          "output_type": "stream",
          "name": "stdout",
          "text": [
            "Requirement already satisfied: scilpy in /usr/local/lib/python3.10/dist-packages (1.5.0)\n",
            "Requirement already satisfied: bids-validator==1.9.* in /usr/local/lib/python3.10/dist-packages (from scilpy) (1.9.9)\n",
            "Requirement already satisfied: bctpy==0.5.* in /usr/local/lib/python3.10/dist-packages (from scilpy) (0.5.2)\n",
            "Requirement already satisfied: bz2file==0.98.* in /usr/local/lib/python3.10/dist-packages (from scilpy) (0.98)\n",
            "Requirement already satisfied: coloredlogs==15.0.* in /usr/local/lib/python3.10/dist-packages (from scilpy) (15.0.1)\n",
            "Requirement already satisfied: cvxpy==1.3.* in /usr/local/lib/python3.10/dist-packages (from scilpy) (1.3.3)\n",
            "Requirement already satisfied: cycler==0.11.* in /usr/local/lib/python3.10/dist-packages (from scilpy) (0.11.0)\n",
            "Requirement already satisfied: Cython!=0.29.29,==0.29.* in /usr/local/lib/python3.10/dist-packages (from scilpy) (0.29.37)\n",
            "Requirement already satisfied: dipy==1.7.* in /usr/local/lib/python3.10/dist-packages (from scilpy) (1.7.0)\n",
            "Requirement already satisfied: dmri-amico==1.5.* in /usr/local/lib/python3.10/dist-packages (from scilpy) (1.5.4)\n",
            "Requirement already satisfied: dmri-commit==1.6.* in /usr/local/lib/python3.10/dist-packages (from scilpy) (1.6.5)\n",
            "Requirement already satisfied: docopt==0.6.* in /usr/local/lib/python3.10/dist-packages (from scilpy) (0.6.2)\n",
            "Requirement already satisfied: formulaic==0.3.* in /usr/local/lib/python3.10/dist-packages (from scilpy) (0.3.4)\n",
            "Requirement already satisfied: fury==0.8.* in /usr/local/lib/python3.10/dist-packages (from scilpy) (0.8.0)\n",
            "Requirement already satisfied: future==0.18.* in /usr/local/lib/python3.10/dist-packages (from scilpy) (0.18.3)\n",
            "Requirement already satisfied: h5py==3.7.* in /usr/local/lib/python3.10/dist-packages (from scilpy) (3.7.0)\n",
            "Requirement already satisfied: joblib==1.2.* in /usr/local/lib/python3.10/dist-packages (from scilpy) (1.2.0)\n",
            "Requirement already satisfied: kiwisolver==1.4.* in /usr/local/lib/python3.10/dist-packages (from scilpy) (1.4.5)\n",
            "Requirement already satisfied: matplotlib==3.6.* in /usr/local/lib/python3.10/dist-packages (from scilpy) (3.6.3)\n",
            "Requirement already satisfied: nibabel==4.0.* in /usr/local/lib/python3.10/dist-packages (from scilpy) (4.0.2)\n",
            "Requirement already satisfied: nilearn==0.9.* in /usr/local/lib/python3.10/dist-packages (from scilpy) (0.9.2)\n",
            "Requirement already satisfied: numpy==1.23.* in /usr/local/lib/python3.10/dist-packages (from scilpy) (1.23.5)\n",
            "Requirement already satisfied: openpyxl==3.0.* in /usr/local/lib/python3.10/dist-packages (from scilpy) (3.0.10)\n",
            "Requirement already satisfied: Pillow==9.3.* in /usr/local/lib/python3.10/dist-packages (from scilpy) (9.3.0)\n",
            "Requirement already satisfied: pybids==0.15.* in /usr/local/lib/python3.10/dist-packages (from scilpy) (0.15.6)\n",
            "Requirement already satisfied: pyparsing==3.0.* in /usr/local/lib/python3.10/dist-packages (from scilpy) (3.0.9)\n",
            "Requirement already satisfied: PySocks==1.7.* in /usr/local/lib/python3.10/dist-packages (from scilpy) (1.7.1)\n",
            "Requirement already satisfied: pytest==7.2.* in /usr/local/lib/python3.10/dist-packages (from scilpy) (7.2.2)\n",
            "Requirement already satisfied: pytest-console-scripts==1.3.* in /usr/local/lib/python3.10/dist-packages (from scilpy) (1.3.1)\n",
            "Requirement already satisfied: pytest-mock==3.10.* in /usr/local/lib/python3.10/dist-packages (from scilpy) (3.10.0)\n",
            "Requirement already satisfied: python-dateutil==2.8.* in /usr/local/lib/python3.10/dist-packages (from scilpy) (2.8.2)\n",
            "Requirement already satisfied: pytz==2022.6.* in /usr/local/lib/python3.10/dist-packages (from scilpy) (2022.6)\n",
            "Requirement already satisfied: requests==2.28.* in /usr/local/lib/python3.10/dist-packages (from scilpy) (2.28.2)\n",
            "Requirement already satisfied: scikit-learn==1.2.* in /usr/local/lib/python3.10/dist-packages (from scilpy) (1.2.2)\n",
            "Requirement already satisfied: scipy==1.9.* in /usr/local/lib/python3.10/dist-packages (from scilpy) (1.9.3)\n",
            "Requirement already satisfied: six==1.16.* in /usr/local/lib/python3.10/dist-packages (from scilpy) (1.16.0)\n",
            "Requirement already satisfied: spams==2.6.* in /usr/local/lib/python3.10/dist-packages (from scilpy) (2.6.5.4)\n",
            "Requirement already satisfied: statsmodels==0.13.* in /usr/local/lib/python3.10/dist-packages (from scilpy) (0.13.5)\n",
            "Requirement already satisfied: trimeshpy==0.0.2 in /usr/local/lib/python3.10/dist-packages (from scilpy) (0.0.2)\n",
            "Requirement already satisfied: vtk==9.2.* in /usr/local/lib/python3.10/dist-packages (from scilpy) (9.2.6)\n",
            "Requirement already satisfied: packaging>=19.0 in /usr/local/lib/python3.10/dist-packages (from scilpy) (24.0)\n",
            "Requirement already satisfied: tqdm>=4.30.0 in /usr/local/lib/python3.10/dist-packages (from scilpy) (4.66.2)\n",
            "Requirement already satisfied: humanfriendly>=9.1 in /usr/local/lib/python3.10/dist-packages (from coloredlogs==15.0.*->scilpy) (10.0)\n",
            "Requirement already satisfied: osqp>=0.4.1 in /usr/local/lib/python3.10/dist-packages (from cvxpy==1.3.*->scilpy) (0.6.2.post8)\n",
            "Requirement already satisfied: ecos>=2 in /usr/local/lib/python3.10/dist-packages (from cvxpy==1.3.*->scilpy) (2.0.13)\n",
            "Requirement already satisfied: scs>=1.1.6 in /usr/local/lib/python3.10/dist-packages (from cvxpy==1.3.*->scilpy) (3.2.4.post1)\n",
            "Requirement already satisfied: setuptools>65.5.1 in /usr/local/lib/python3.10/dist-packages (from cvxpy==1.3.*->scilpy) (67.7.2)\n",
            "Requirement already satisfied: astor>=0.8 in /usr/local/lib/python3.10/dist-packages (from formulaic==0.3.*->scilpy) (0.8.1)\n",
            "Requirement already satisfied: interface-meta<2.0.0,>=1.2.0 in /usr/local/lib/python3.10/dist-packages (from formulaic==0.3.*->scilpy) (1.3.0)\n",
            "Requirement already satisfied: pandas>=1.2 in /usr/local/lib/python3.10/dist-packages (from formulaic==0.3.*->scilpy) (2.0.3)\n",
            "Requirement already satisfied: wrapt>=1.0 in /usr/local/lib/python3.10/dist-packages (from formulaic==0.3.*->scilpy) (1.14.1)\n",
            "Requirement already satisfied: contourpy>=1.0.1 in /usr/local/lib/python3.10/dist-packages (from matplotlib==3.6.*->scilpy) (1.2.1)\n",
            "Requirement already satisfied: fonttools>=4.22.0 in /usr/local/lib/python3.10/dist-packages (from matplotlib==3.6.*->scilpy) (4.51.0)\n",
            "Requirement already satisfied: lxml in /usr/local/lib/python3.10/dist-packages (from nilearn==0.9.*->scilpy) (4.9.4)\n",
            "Requirement already satisfied: et-xmlfile in /usr/local/lib/python3.10/dist-packages (from openpyxl==3.0.*->scilpy) (1.1.0)\n",
            "Requirement already satisfied: sqlalchemy<1.4.0.dev0 in /usr/local/lib/python3.10/dist-packages (from pybids==0.15.*->scilpy) (1.3.24)\n",
            "Requirement already satisfied: num2words in /usr/local/lib/python3.10/dist-packages (from pybids==0.15.*->scilpy) (0.5.13)\n",
            "Requirement already satisfied: click>=8.0 in /usr/local/lib/python3.10/dist-packages (from pybids==0.15.*->scilpy) (8.1.7)\n",
            "Requirement already satisfied: attrs>=19.2.0 in /usr/local/lib/python3.10/dist-packages (from pytest==7.2.*->scilpy) (23.2.0)\n",
            "Requirement already satisfied: iniconfig in /usr/local/lib/python3.10/dist-packages (from pytest==7.2.*->scilpy) (2.0.0)\n",
            "Requirement already satisfied: pluggy<2.0,>=0.12 in /usr/local/lib/python3.10/dist-packages (from pytest==7.2.*->scilpy) (1.4.0)\n",
            "Requirement already satisfied: exceptiongroup>=1.0.0rc8 in /usr/local/lib/python3.10/dist-packages (from pytest==7.2.*->scilpy) (1.2.0)\n",
            "Requirement already satisfied: tomli>=1.0.0 in /usr/local/lib/python3.10/dist-packages (from pytest==7.2.*->scilpy) (2.0.1)\n",
            "Requirement already satisfied: charset-normalizer<4,>=2 in /usr/local/lib/python3.10/dist-packages (from requests==2.28.*->scilpy) (3.3.2)\n",
            "Requirement already satisfied: idna<4,>=2.5 in /usr/local/lib/python3.10/dist-packages (from requests==2.28.*->scilpy) (3.6)\n",
            "Requirement already satisfied: urllib3<1.27,>=1.21.1 in /usr/local/lib/python3.10/dist-packages (from requests==2.28.*->scilpy) (1.26.18)\n",
            "Requirement already satisfied: certifi>=2017.4.17 in /usr/local/lib/python3.10/dist-packages (from requests==2.28.*->scilpy) (2024.2.2)\n",
            "Requirement already satisfied: threadpoolctl>=2.0.0 in /usr/local/lib/python3.10/dist-packages (from scikit-learn==1.2.*->scilpy) (3.4.0)\n",
            "Requirement already satisfied: patsy>=0.5.2 in /usr/local/lib/python3.10/dist-packages (from statsmodels==0.13.*->scilpy) (0.5.6)\n",
            "Requirement already satisfied: qdldl in /usr/local/lib/python3.10/dist-packages (from osqp>=0.4.1->cvxpy==1.3.*->scilpy) (0.1.7.post1)\n",
            "Requirement already satisfied: tzdata>=2022.1 in /usr/local/lib/python3.10/dist-packages (from pandas>=1.2->formulaic==0.3.*->scilpy) (2024.1)\n"
          ]
        }
      ],
      "source": [
        "!pip install scilpy"
      ]
    },
    {
      "cell_type": "code",
      "source": [
        "import scilpy\n"
      ],
      "metadata": {
        "id": "-bfDmAJ5hO2u"
      },
      "execution_count": null,
      "outputs": []
    },
    {
      "cell_type": "code",
      "source": [
        "import nibabel as nib\n",
        "import numpy as np\n",
        "#np.set_printoptions(threshold=np.inf)\n",
        "import matplotlib.pyplot as plt\n",
        "from dipy.io.streamline import load_tractogram\n",
        "from dipy.reconst.dti import fractional_anisotropy\n",
        "from dipy.tracking.streamline import set_number_of_points\n",
        "from scipy.spatial import distance\n",
        "from scipy.spatial.distance import euclidean\n",
        "#import centroid_scil_qb as cs\n",
        "#import centroid_new as csn\n",
        "import dipy.stats.analysis as dsa\n",
        "import dipy.tracking.streamline as dts\n",
        "from dipy.io.image import load_nifti\n",
        "from scilpy.tractanalysis.features import get_streamlines_centroid"
      ],
      "metadata": {
        "id": "bQqz7YIonQlp"
      },
      "execution_count": null,
      "outputs": []
    },
    {
      "cell_type": "code",
      "source": [
        "fa_map, affine = load_nifti(\"/100206__fa.nii.gz\")\n",
        "fa = nib.load(\"/100206__fa.nii.gz\")\n",
        "#fa_data = fa_map.get_fdata()\n",
        "\n",
        "# Load the tractography data\n",
        "bundles_filename = \"/ATR_left.tck\"\n",
        "#bundles_filename2 = \"Data/AF_right.tck\"\n",
        "streams = load_tractogram(bundles_filename, fa).streamlines\n",
        "#streams2 = load_tractogram(bundles_filename2, fa).streamlines\n",
        "\n",
        "# Number of points to resample each streamline\n",
        "num_points = 40\n",
        "\n",
        "# Resample all streamlines to an equal number of segments/points\n",
        "#resampled_streams = [set_number_of_points(streamline, num_points) for streamline in streams]\n",
        "\n",
        "# Compute centroids using the first method\n",
        "centroid_method1 = np.array(get_streamlines_centroid(streams, num_points))\n"
      ],
      "metadata": {
        "id": "Bzfwy6UZ0ehY"
      },
      "execution_count": null,
      "outputs": []
    },
    {
      "cell_type": "code",
      "source": [
        "# Orient the streamlines using the first method\n",
        "#oriented_af_l1 = dts.orient_by_streamline(streams, centroid_method1[0])\n",
        "# Calculate the weights for the first method\n",
        "# w_af_l = dsa.gaussian_weights(oriented_af_l1)\n",
        "# Calculate the profile using the oriented streamlines and corresponding weights for each method\n",
        "#profile_af_l1 = dsa.afq_profile(fa_map, oriented_af_l1, affine, 100, orient_by=centroid_method1[0], weights=w_af_l)\n",
        "#print(profile_af_l1)"
      ],
      "metadata": {
        "id": "mq0X0LBM4miJ"
      },
      "execution_count": null,
      "outputs": []
    },
    {
      "cell_type": "code",
      "source": [
        "from dipy.tracking.utils import length\n",
        "from dipy.tracking.streamline import Streamlines\n",
        "\n",
        "def generate_core_streamline(streamlines, percentage, distance_threshold, nb_points=40):\n",
        "    # Step 1: Averaging the top percentage longest streamlines\n",
        "    num_streamlines = len(streamlines)\n",
        "\n",
        "    num_longest = int(percentage / 100 * num_streamlines)\n",
        "\n",
        "    #return top_5_percent_streamlines\n",
        "    lengths = list(length(streamlines))\n",
        "    lengths_pts = [length(streamline) for streamline in streamlines]\n",
        "    threshold = (np.percentile(lengths, 100-percentage))\n",
        "    long_streamlines = Streamlines()\n",
        "    for i, sl in enumerate(streamlines):\n",
        "        if lengths[i] > threshold:\n",
        "            long_streamlines.append(sl)\n",
        "\n",
        "    core_streamline = get_streamlines_centroid(long_streamlines, nb_points)\n",
        "    return core_streamline"
      ],
      "metadata": {
        "id": "fm1jpUQB5LwF"
      },
      "execution_count": null,
      "outputs": []
    },
    {
      "cell_type": "code",
      "source": [
        "#centroid_method2 = np.array(generate_core_streamline(streams, 1, 5, num_points))\n",
        "# Orient the streamlines using the first method\n",
        "#oriented_af_l2 = dts.orient_by_streamline(streams, centroid_method2[0])\n",
        "# Calculate the weights for the first method\n",
        "#w_af_l2 = dsa.gaussian_weights(oriented_af_l2)\n",
        "# Calculate the profile using the oriented streamlines and corresponding weights for each method\n",
        "#profile_af_l2 = dsa.afq_profile(fa_map, oriented_af_l2, affine, 100, orient_by=centroid_method2[0], weights=w_af_l2)\n",
        "#print(profile_af_l2)"
      ],
      "metadata": {
        "id": "jGlIt8EHrxjv"
      },
      "execution_count": null,
      "outputs": []
    },
    {
      "cell_type": "code",
      "source": [
        "print(affine)"
      ],
      "metadata": {
        "colab": {
          "base_uri": "https://localhost:8080/"
        },
        "id": "OVkOLSwW049r",
        "outputId": "d3637f80-d3ca-47ad-cb0f-a4217e919ae7"
      },
      "execution_count": null,
      "outputs": [
        {
          "output_type": "stream",
          "name": "stdout",
          "text": [
            "[[  -1.25    0.      0.     77.5 ]\n",
            " [   0.      1.25    0.   -113.5 ]\n",
            " [   0.      0.      1.25  -63.25]\n",
            " [   0.      0.      0.      1.  ]]\n"
          ]
        }
      ]
    },
    {
      "cell_type": "code",
      "source": [
        "def resample_streamlines_num_points(sft, num_points):\n",
        "    \"\"\"\n",
        "    Resample streamlines using number of points per streamline\n",
        "\n",
        "    Parameters\n",
        "    ----------\n",
        "    sft: StatefulTractogram\n",
        "        SFT containing the streamlines to subsample.\n",
        "    num_points: int\n",
        "        Number of points per streamline in the output.\n",
        "\n",
        "    Return\n",
        "    ------\n",
        "    resampled_sft: StatefulTractogram\n",
        "        The resampled streamlines as a sft.\n",
        "    \"\"\"\n",
        "\n",
        "    # Checks\n",
        "    if num_points <= 1:\n",
        "        raise ValueError(\"The value of num_points should be greater than 1!\")\n",
        "\n",
        "    # Resampling\n",
        "    lines = set_number_of_points(sft, num_points)\n",
        "\n",
        "    # Creating sft\n",
        "    # CAREFUL. Data_per_point will be lost.\n",
        "    #resampled_sft = _warn_and_save(lines, sft)\n",
        "\n",
        "    return lines"
      ],
      "metadata": {
        "id": "mf1g3yiCLVfL"
      },
      "execution_count": null,
      "outputs": []
    },
    {
      "cell_type": "code",
      "source": [
        "#!pip install --upgrade dipy"
      ],
      "metadata": {
        "id": "kC3tJZN-igUm"
      },
      "execution_count": null,
      "outputs": []
    },
    {
      "cell_type": "code",
      "source": [
        "#from dipy.align.streamlinear import StreamlineLinearRegistration\n",
        "from dipy.tracking.streamlinespeed import (length, set_number_of_points)\n",
        "from dipy.io.stateful_tractogram import StatefulTractogram\n",
        "from nibabel.streamlines import ArraySequence\n",
        "from scilpy.utils.streamlines import uniformize_bundle_sft\n",
        "from scilpy.tractanalysis.distance_to_centroid import min_dist_to_centroid\n",
        "\n",
        "centroid_method1 = resample_streamlines_num_points(get_streamlines_centroid(streams, num_points), num_points)\n",
        "streams = resample_streamlines_num_points(streams, num_points)\n",
        "#srr = StreamlineLinearRegistration()\n",
        "#srm = srr.optimize(static=streams,\n",
        "                           #moving=centroid_method1)\n",
        "#centroid_method1 = srm.transform(centroid_method1)\n",
        "centroid_method1 = ArraySequence(centroid_method1)\n",
        "#centroid_method1_seq = StatefulTractogram.from_sft(centroid_method1, np.eye(4))\n",
        "#uniformize_bundle_sft(streams, ref_bundle=centroid_method1[0])\n",
        "\n",
        "#dists, labels = min_dist_to_centroid(streams._data, centroid_method1._data)\n",
        "#print(dists)\n",
        "#print(\"and\")\n",
        "#print(labels)"
      ],
      "metadata": {
        "id": "W8r4XEWpLe0w"
      },
      "execution_count": null,
      "outputs": []
    },
    {
      "cell_type": "code",
      "source": [
        "#from dipy.reconst.interpolate import approx_gradient\n",
        "from dipy.tracking.streamline import values_from_volume\n",
        "\n",
        "def fa_profiling(centroid, streams):\n",
        "  #centroid = np.array(centroid)\n",
        "  #centroid = np.array(centroid).reshape(num_points, 3)\n",
        "  centroid = ArraySequence(centroid)\n",
        "  print(\"Shape of centroid._data:\", centroid._data.shape)\n",
        "  print(\"Shape of streams._data:\", streams._data.shape)\n",
        "  dists, labels = min_dist_to_centroid(streams._data, centroid._data)\n",
        "  print(\"Shape of dists:\", dists.shape)\n",
        "  print(\"Shape of labels:\", labels.shape)\n",
        "  fa_values = values_from_volume(fa_map, streams, affine)\n",
        "  #print(\"Shape of fa_values:\", fa_values.shape)\n",
        "\n",
        "  # Initialize an empty list to hold the FA values for each centroid point\n",
        "  fa_values_centroid = [[] for _ in range(num_points)]\n",
        "\n",
        "  # Assign the FA values to the corresponding centroid point\n",
        "  for fa_value, dist in zip(fa_values, dists):\n",
        "      fa_values_centroid[dist].append(fa_value)\n",
        "\n",
        "  # Calculate the average FA value for each centroid point\n",
        "  fa_values_avg = [np.nan if not values else np.mean(values) for values in fa_values_centroid]\n",
        "  return fa_values_avg\n",
        "  print(\"FA values at each point on the centroid:\", fa_values_avg)\n"
      ],
      "metadata": {
        "id": "GJGxgJl_y4ai"
      },
      "execution_count": null,
      "outputs": []
    },
    {
      "cell_type": "code",
      "source": [
        "from itertools import count, takewhile\n",
        "import logging\n",
        "from multiprocessing import Pool\n",
        "\n",
        "from dipy.segment.clustering import QuickBundles, qbx_and_merge\n",
        "from dipy.segment.featurespeed import ResampleFeature\n",
        "from dipy.segment.metric import AveragePointwiseEuclideanMetric\n",
        "from dipy.tracking import metrics as tm\n",
        "import numpy as np\n",
        "\n",
        "def get_streamlines_centroid(streamlines, nb_points):\n",
        "    \"\"\"\n",
        "    Compute centroid from streamlines using QuickBundles.\n",
        "\n",
        "    Parameters\n",
        "    ----------\n",
        "    streamlines: list of ndarray\n",
        "        The list of streamlines from which we compute the centroid.\n",
        "    nb_points: int\n",
        "        Number of points defining the centroid streamline.\n",
        "\n",
        "    Returns\n",
        "    -------\n",
        "    List of length one, containing a np.ndarray of shape (nb_points, 3)\n",
        "    \"\"\"\n",
        "    resample_feature = ResampleFeature(nb_points=nb_points)\n",
        "    quick_bundle = QuickBundles(\n",
        "        threshold=np.inf,\n",
        "        metric=AveragePointwiseEuclideanMetric(resample_feature))\n",
        "    clusters = quick_bundle.cluster(streamlines)\n",
        "    centroid_streamlines = clusters.centroids\n",
        "\n",
        "    print(type(centroid_streamlines))\n",
        "    return centroid_streamlines"
      ],
      "metadata": {
        "id": "EH-OTGWL4XUz"
      },
      "execution_count": null,
      "outputs": []
    },
    {
      "cell_type": "code",
      "source": [
        "def generate_core_streamline(streamlines, percentage=5, nb_points=40):\n",
        "    # Step 1: Averaging the top percentage longest streamlines\n",
        "    num_streamlines = len(streamlines)\n",
        "\n",
        "    num_longest = int(percentage / 100 * num_streamlines)\n",
        "\n",
        "    #return top_5_percent_streamlines\n",
        "    lengths = list(length(streamlines))\n",
        "    lengths_pts = [length(streamline) for streamline in streamlines]\n",
        "    threshold = (np.percentile(lengths, 100-percentage))\n",
        "    long_streamlines = Streamlines()\n",
        "    for i, sl in enumerate(streamlines):\n",
        "        if lengths[i] > threshold:\n",
        "            long_streamlines.append(sl)\n",
        "\n",
        "    core_streamline = get_streamlines_centroid(long_streamlines, nb_points = 40)\n",
        "    return core_streamline"
      ],
      "metadata": {
        "id": "6g1zt2zq9NSN"
      },
      "execution_count": null,
      "outputs": []
    },
    {
      "cell_type": "code",
      "source": [
        "from scipy.interpolate import splprep, splev\n",
        "import numpy as np\n",
        "from scipy.spatial import ConvexHull\n",
        "from scipy.interpolate import BSpline\n",
        "from dipy.tracking.utils import length\n",
        "from dipy.tracking.streamline import Streamlines\n",
        "#import centroid_scil_qb as cs\n",
        "from sklearn.cluster import KMeans\n",
        "\n",
        "\n",
        "def generate_core_streamline_new1(streamlines, percentage = 5, distance_threshold = 20, nb_points = 40):\n",
        "    # Step 1: Averaging the top percentage longest streamlines\n",
        "    num_streamlines = len(streamlines)\n",
        "\n",
        "    num_longest = int(percentage / 100 * num_streamlines)\n",
        "\n",
        "    lengths = list(length(streamlines))\n",
        "    lengths_pts = [length(streamline) for streamline in streamlines]\n",
        "    threshold1 = (np.percentile(lengths, 100-percentage))\n",
        "    long_streamlines = Streamlines()\n",
        "    for i, sl in enumerate(streamlines):\n",
        "        if lengths[i] > threshold1:\n",
        "            long_streamlines.append(sl)\n",
        "\n",
        "    core_streamline = get_streamlines_centroid(long_streamlines, nb_points)\n",
        "\n",
        "    # Step 2: Generating orthogonal planes and finding intersecting points\n",
        "    core_streamline_array = core_streamline[0]  # Extract the NumPy array from the list\n",
        "    all_centers_of_mass = []\n",
        "    all_points_initial_core = []\n",
        "    all_normals = []\n",
        "    c=0\n",
        "    min_area = 10000\n",
        "    all_points = []\n",
        "    all_areas = []\n",
        "    #print(len(core_streamline_array))\n",
        "    for i in range(len(core_streamline_array) - 1):\n",
        "        segment = core_streamline_array[i:i+2]\n",
        "\n",
        "        if len(segment) != 2:\n",
        "            continue\n",
        "\n",
        "        direction_vector = segment[1] - segment[0]\n",
        "        tangent_vector = direction_vector / np.linalg.norm(direction_vector)\n",
        "\n",
        "        # Compute a normal vector\n",
        "        normal_vector = tangent_vector\n",
        "        # Define the plane through the point segment[0] and normal to normal_vector\n",
        "        plane_point = segment[0]  # Any point on the plane\n",
        "        plane_normal = normal_vector  # The normal vector to the plane\n",
        "\n",
        "        # Find intersection points of the plane with the rest of the streamlines\n",
        "        intersection_points = []\n",
        "        for streamline in streamlines:\n",
        "            for j in range(len(streamline) - 1):\n",
        "                line_point = streamline[j]  # Any point on the line\n",
        "                line_vector = streamline[j+1] - streamline[j]  # The direction vector of the line\n",
        "\n",
        "                # Solve for the intersection point\n",
        "                t = np.dot(plane_normal, plane_point - line_point) / np.dot(plane_normal, line_vector)\n",
        "                intersection_point = line_point + t * line_vector\n",
        "\n",
        "                # Check if the intersection point lies within the line segment\n",
        "                if 0 <= t <= 1:\n",
        "                    distance = np.linalg.norm(intersection_point - segment[0])\n",
        "                # Check if the distance is less than the threshold\n",
        "                    if distance < distance_threshold:\n",
        "                        intersection_points.append(intersection_point)\n",
        "        #return intersection_points\n",
        "\n",
        "        c=c+1\n",
        "        #print(\"counter\", c)\n",
        "        #print(\"intersection sets sizes: \", len(intersecting_points))\n",
        "        #return intersecting_points\n",
        "        if c%4==1:\n",
        "            #print(\"c: \", c)\n",
        "            all_points.extend(list(intersection_points))\n",
        "        if intersection_points:\n",
        "            #closest_points = np.array(intersecting_points)\n",
        "            #print(\"Shape of closest_points:\", closest_points.shape)\n",
        "\n",
        "            # Ensure that closest_points has at least two dimensions\n",
        "            #if closest_points.ndim >= 2:\n",
        "            hull = ConvexHull(intersection_points)\n",
        "            area = hull.area\n",
        "            #print(\"Area is: \", area)\n",
        "            all_areas.append(area)\n",
        "\n",
        "            # Check if the current hull area is smaller than min_area\n",
        "            if i < 2 and i > nb_points - 1:\n",
        "                if area < min_area:\n",
        "                    min_area = area\n",
        "\n",
        "                # Step 4: Compute the center of mass for each hull\n",
        "                #print(\"Shape of hull_2d.vertices:\", hull_2d.vertices.shape)\n",
        "                #print(\"Sample vertices:\", hull_2d.vertices[:5])  # Print the first 5 vertices for inspection\n",
        "                #return hull\n",
        "                #return (hull.points)\n",
        "            #center_of_mass = np.mean(intersection_points, axis=0)\n",
        "            #center_of_mass = np.mean(hull.points, axis=0)\n",
        "        #print(\"center of mass example: \", center_of_mass)\n",
        "            #all_centers_of_mass.append(center_of_mass)\n",
        "                #return center_of_mass\n",
        "                #all_centers_of_mass = [np.array(center) for center in all_centers_of_mass]\n",
        "                #all_centers_of_mass = np.array(all_centers_of_mass)\n",
        "            #else:\n",
        "                #print(\"Error: closest_points should have at least two dimensions.\")\n",
        "\n",
        "        # Step 5: Linking centers of mass with a B-spline curve\n",
        "\n",
        "    # After computing all hull areas, iterate again to perform clustering\n",
        "    for i in range(len(core_streamline_array) - 1):\n",
        "        segment = core_streamline_array[i:i+2]\n",
        "\n",
        "        if len(segment) != 2:\n",
        "            continue\n",
        "\n",
        "        direction_vector = segment[1] - segment[0]\n",
        "        tangent_vector = direction_vector / np.linalg.norm(direction_vector)\n",
        "\n",
        "        # Compute a normal vector\n",
        "        normal_vector = tangent_vector\n",
        "        # Define the plane through the point segment[0] and normal to normal_vector\n",
        "        plane_point = segment[0]  # Any point on the plane\n",
        "        plane_normal = normal_vector  # The normal vector to the plane\n",
        "\n",
        "        # Find intersection points of the plane with the rest of the streamlines\n",
        "        intersection_points = []\n",
        "        for streamline in streamlines:\n",
        "            for j in range(len(streamline) - 1):\n",
        "                line_point = streamline[j]  # Any point on the line\n",
        "                line_vector = streamline[j+1] - streamline[j]  # The direction vector of the line\n",
        "\n",
        "                # Solve for the intersection point\n",
        "                t = np.dot(plane_normal, plane_point - line_point) / np.dot(plane_normal, line_vector)\n",
        "                intersection_point = line_point + t * line_vector\n",
        "\n",
        "                # Check if the intersection point lies within the line segment\n",
        "                if 0 <= t <= 1:\n",
        "                    distance = np.linalg.norm(intersection_point - segment[0])\n",
        "                # Check if the distance is less than the threshold\n",
        "                    if distance < distance_threshold:\n",
        "                        intersection_points.append(intersection_point)\n",
        "\n",
        "        #print(len(intersection_points))\n",
        "        if intersection_points:\n",
        "            hull = ConvexHull(intersection_points)\n",
        "            area = hull.area\n",
        "\n",
        "            # Check if the current hull area is more than 2 times the min_area\n",
        "            center_of_mass = np.mean(intersection_points, axis=0)\n",
        "            all_centers_of_mass.append(center_of_mass)\n",
        "\n",
        "    #all_centers_of_mass_np = np.array(all_centers_of_mass)\n",
        "    #if len(all_centers_of_mass_np) > k:\n",
        "        # Create a periodic closure of the points\n",
        "        #closed_points = np.vstack((all_centers_of_mass_np, all_centers_of_mass_np[0]))\n",
        "\n",
        "        # Create a B-spline representation of the closed points\n",
        "        #tck, u = splprep(all_centers_of_mass_np.T, s=0)\n",
        "\n",
        "        # Evaluate the B-spline representation at a fine grid of points\n",
        "        #new_points = splev(np.linspace(0, 1, 100), tck)\n",
        "    #else:\n",
        "        #print(f\"Number of centers of mass ({len(all_centers_of_mass_np)}) is less than or equal to k ({k}).\")\n",
        "\n",
        "    segment = core_streamline_array[nb_points-2:nb_points]\n",
        "\n",
        "    direction_vector = segment[1] - segment[0]\n",
        "    tangent_vector = direction_vector / np.linalg.norm(direction_vector)\n",
        "\n",
        "    # Compute a normal vector\n",
        "    normal_vector = tangent_vector\n",
        "    # Define the plane through the point segment[0] and normal to normal_vector\n",
        "    plane_point = segment[1]  # Any point on the plane\n",
        "    plane_normal = normal_vector  # The normal vector to the plane\n",
        "\n",
        "    # Find intersection points of the plane with the rest of the streamlines\n",
        "    intersection_points = []\n",
        "    for streamline in streamlines:\n",
        "        for j in range(len(streamline) - 1):\n",
        "             line_point = streamline[j]  # Any point on the line\n",
        "             line_vector = streamline[j+1] - streamline[j]  # The direction vector of the line\n",
        "\n",
        "             # Solve for the intersection point\n",
        "             t = np.dot(plane_normal, plane_point - line_point) / np.dot(plane_normal, line_vector)\n",
        "             intersection_point = line_point + t * line_vector\n",
        "             # Check if the intersection point lies within the line segment\n",
        "             if 0 <= t <= 1:\n",
        "                distance = np.linalg.norm(intersection_point - segment[1])\n",
        "             # Check if the distance is less than the threshold\n",
        "                if distance < distance_threshold:\n",
        "                    intersection_points.append(intersection_point)\n",
        "\n",
        "    #print(len(intersection_points))\n",
        "    if intersection_points:\n",
        "        hull = ConvexHull(intersection_points)\n",
        "        area = hull.area\n",
        "\n",
        "        # Check if the current hull area is more than 2 times the min_area\n",
        "        center_of_mass = np.mean(intersection_points, axis=0)\n",
        "        all_centers_of_mass.append(center_of_mass)\n",
        "\n",
        "\n",
        "    #print((all_centers_of_mass))\n",
        "    #all_centers_of_mass = np.array(all_centers_of_mass).reshape(nb_points, 3)\n",
        "    all_centers_of_mass = [np.array(all_centers_of_mass).reshape(-1, 3)]\n",
        "    print(type(all_centers_of_mass))\n",
        "    return (all_centers_of_mass)"
      ],
      "metadata": {
        "id": "AjpopUzR3rUz"
      },
      "execution_count": null,
      "outputs": []
    },
    {
      "cell_type": "code",
      "source": [
        "fa_profile1 = fa_profiling(get_streamlines_centroid(streams, 40), streams)"
      ],
      "metadata": {
        "colab": {
          "base_uri": "https://localhost:8080/"
        },
        "id": "TAjc7NRM4y5x",
        "outputId": "c24e54b5-30e6-44c0-f9a3-b235902ebc9e"
      },
      "execution_count": null,
      "outputs": [
        {
          "output_type": "stream",
          "name": "stdout",
          "text": [
            "<class 'list'>\n",
            "Shape of centroid._data: (40, 3)\n",
            "Shape of streams._data: (80000, 3)\n",
            "Shape of dists: (80000,)\n",
            "Shape of labels: (80000,)\n"
          ]
        }
      ]
    },
    {
      "cell_type": "code",
      "source": [
        "#get_streamlines_centroid(streams, 40)"
      ],
      "metadata": {
        "id": "tP15Ql-S8mS4"
      },
      "execution_count": null,
      "outputs": []
    },
    {
      "cell_type": "code",
      "source": [
        "fa_profile2 = fa_profiling(generate_core_streamline(streams, 40), streams)"
      ],
      "metadata": {
        "colab": {
          "base_uri": "https://localhost:8080/"
        },
        "id": "q2tS3aqe9G2A",
        "outputId": "270b5837-b636-461d-8601-db9454b84f19"
      },
      "execution_count": null,
      "outputs": [
        {
          "output_type": "stream",
          "name": "stdout",
          "text": [
            "<class 'list'>\n",
            "Shape of centroid._data: (40, 3)\n",
            "Shape of streams._data: (80000, 3)\n",
            "Shape of dists: (80000,)\n",
            "Shape of labels: (80000,)\n"
          ]
        }
      ]
    },
    {
      "cell_type": "code",
      "source": [
        "fa_profile3 = fa_profiling(generate_core_streamline_new1(streams, percentage=5, distance_threshold = 20, nb_points=40), streams)"
      ],
      "metadata": {
        "colab": {
          "base_uri": "https://localhost:8080/"
        },
        "id": "-rV4YzFn5WND",
        "outputId": "63449787-f30a-4aad-978c-fb91214f2ea9"
      },
      "execution_count": null,
      "outputs": [
        {
          "output_type": "stream",
          "name": "stdout",
          "text": [
            "<class 'list'>\n",
            "<class 'list'>\n",
            "Shape of centroid._data: (40, 3)\n",
            "Shape of streams._data: (80000, 3)\n",
            "Shape of dists: (80000,)\n",
            "Shape of labels: (80000,)\n"
          ]
        }
      ]
    },
    {
      "cell_type": "code",
      "source": [
        "import matplotlib.pyplot as plt\n",
        "\n",
        "def plot_fa_profiles(fa_profiles):\n",
        "    colors = ['r', 'g', 'b']  # colors for the FA profiles\n",
        "\n",
        "    for i, fa_profile in enumerate(fa_profiles):\n",
        "        plt.plot(fa_profile, color=colors[i], label=f'Centroid {i+1}')\n",
        "\n",
        "    plt.xlabel('Point along centroid')\n",
        "    plt.ylabel('FA value')\n",
        "    plt.legend()\n",
        "    plt.show()"
      ],
      "metadata": {
        "id": "Y-35z8Pytkft"
      },
      "execution_count": null,
      "outputs": []
    },
    {
      "cell_type": "code",
      "source": [
        "print(fa_profile1)"
      ],
      "metadata": {
        "colab": {
          "base_uri": "https://localhost:8080/"
        },
        "id": "HDVjabmTupLd",
        "outputId": "a34485f7-9329-4870-e23a-66bf16694217"
      },
      "execution_count": null,
      "outputs": [
        {
          "output_type": "stream",
          "name": "stdout",
          "text": [
            "[0.3839377467203702, 0.3929443207794494, 0.387373122330474, 0.3864743772864162, 0.38095639935579817, 0.39154826339045967, 0.3868880476542837, 0.3839172055731231, 0.37747033139576075, 0.39336296452947717, 0.37427747927245497, 0.3902131312381343, 0.40008810836386033, 0.3882128053756915, 0.3928063224140347, 0.3893864613478485, 0.39301004780022725, 0.3972639738044801, 0.38831998139232127, 0.39242569945344763, 0.3744802592969629, 0.3910826137029289, 0.3998397662266553, 0.3870246447981504, 0.38908399055593096, 0.37968432388045453, 0.39306966061494625, 0.37229040960500925, 0.3799614024066516, 0.38721258775805806, 0.38660575527097735, 0.39733334097429024, 0.39020162716293627, 0.376233554664459, 0.38542128501251527, 0.39564894668717, 0.3787179946691913, 0.3955124861354996, 0.3809263614358577, 0.38664361551107346]\n"
          ]
        }
      ]
    },
    {
      "cell_type": "code",
      "source": [
        "plot_fa_profiles([fa_profile1, fa_profile2, fa_profile3])"
      ],
      "metadata": {
        "colab": {
          "base_uri": "https://localhost:8080/",
          "height": 449
        },
        "id": "kHlb39Zrto0E",
        "outputId": "e81cf6b7-f790-4406-8677-00d0e5e7bac7"
      },
      "execution_count": null,
      "outputs": [
        {
          "output_type": "display_data",
          "data": {
            "text/plain": [
              "<Figure size 640x480 with 1 Axes>"
            ],
            "image/png": "[encoded data removed]"
          },
          "metadata": {}
        }
      ]
    }
  ]
}